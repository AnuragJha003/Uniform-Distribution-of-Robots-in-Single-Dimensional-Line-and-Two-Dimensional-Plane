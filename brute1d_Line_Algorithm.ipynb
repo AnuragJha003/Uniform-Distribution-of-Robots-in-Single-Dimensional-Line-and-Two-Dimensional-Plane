{
  "nbformat": 4,
  "nbformat_minor": 0,
  "metadata": {
    "colab": {
      "provenance": []
    },
    "kernelspec": {
      "name": "python3",
      "display_name": "Python 3"
    },
    "language_info": {
      "name": "python"
    }
  },
  "cells": [
    {
      "cell_type": "markdown",
      "source": [
        "**Problem Statement** : *Distribute a set of robots positioned along a straight line into two equal halves. The positions of the two extreme robots on the line (leftmost and rightmost) are given, as well as the initial positions of the other robots in between. The objective is to divide the robots into two halves, such that one half is on one side of the line and the other half is on the opposite side.*"
      ],
      "metadata": {
        "id": "NUVhhB88tj_-"
      }
    },
    {
      "cell_type": "code",
      "source": [
        "import sys\n",
        "import time\n",
        "from tqdm import tqdm\n",
        "import matplotlib.pyplot as plt\n",
        "\n",
        "# Define the Robot class\n",
        "class Robot:\n",
        "    def __init__(self, robot_id, position):\n",
        "        self.robot_id = robot_id\n",
        "        self.position = position\n",
        "\n",
        "    def __repr__(self):\n",
        "        return f\"Robot {self.robot_id}: {self.position}\"\n",
        "\n",
        "# Function to plot robot positions\n",
        "def plot_robots(robots, iteration, mid, median):\n",
        "    positions = [robot.position for robot in robots]\n",
        "    plt.clf()  # Clear the previous plot\n",
        "    plt.plot(positions, [0] * len(positions), 'ro', markersize=10, label=\"Robots\")\n",
        "    plt.axvline(x=mid, color='blue', linestyle='--', label=\"Mid Position\")\n",
        "    plt.axvline(x=median, color='green', linestyle='-', label=\"Median Position\")\n",
        "    plt.title(f\"Robot Distribution - Iteration {iteration}\")\n",
        "    plt.xlabel(\"Position\")\n",
        "    plt.yticks([])\n",
        "    plt.xlim(min(positions) - 1, max(positions) + 1)\n",
        "    plt.ylim(-1, 1)\n",
        "    plt.legend(loc=\"upper right\")  # Add legend\n",
        "    plt.pause(0.1)\n",
        "\n",
        "# Function to recursively move robots to avoid collisions\n",
        "def avoid_collision(new_position, factor, robots_sorted, posL, posR):\n",
        "    # Ensure the new position is within bounds\n",
        "    if new_position < posL or new_position > posR:\n",
        "        return new_position  # Do not move out of bounds\n",
        "\n",
        "    # Check if the new position is already occupied by another robot\n",
        "    for robot in robots_sorted:\n",
        "        if abs(robot.position - new_position) < 1e-6:  # Account for precision errors\n",
        "            return avoid_collision(new_position + factor, factor, robots_sorted, posL, posR)\n",
        "\n",
        "    return new_position\n",
        "\n",
        "# Main execution block\n",
        "def main():\n",
        "    # Input the total number of robots\n",
        "    num = int(input(\"Enter number of robots: \"))\n",
        "    robots = []  # Initialize an empty list to store Robot objects\n",
        "\n",
        "    # Input the positions of robots (from 1 to num)\n",
        "    for i in range(1, num + 1):\n",
        "        pos = float(input(f\"Enter position of robot {i}: \"))\n",
        "\n",
        "        # Append the valid robot (with its ID and position) to the robots list\n",
        "        robots.append(Robot(i, pos))\n",
        "\n",
        "    # Sort the robots based on their positions\n",
        "    robots_sorted = sorted(robots, key=lambda robot: robot.position)\n",
        "\n",
        "    # After sorting, update posL (leftmost) and posR (rightmost)\n",
        "    posL = robots_sorted[0].position\n",
        "    posR = robots_sorted[-1].position\n",
        "\n",
        "    # Calculate the initial median position based on the number of robots\n",
        "    if num % 2 == 0:\n",
        "        median = (robots_sorted[num // 2].position + robots_sorted[num // 2 - 1].position) / 2\n",
        "    else:\n",
        "        median = robots_sorted[num // 2].position\n",
        "\n",
        "    # Calculate the midpoint based on the positions of the leftmost and rightmost robots\n",
        "    mid = (posL + posR) / 2\n",
        "\n",
        "    # Main execution block for robot distribution\n",
        "    iteration = 0\n",
        "    plot_robots(robots_sorted, iteration, mid, median)  # Plot initial positions\n",
        "\n",
        "    # Record the start time\n",
        "    start_time = time.time()\n",
        "\n",
        "    # Initialize tqdm for tracking iterations\n",
        "    with tqdm(total=100, desc=\"Iterations\", unit=\"iteration\") as progress_bar:\n",
        "        while median != mid:\n",
        "            iteration += 1\n",
        "            movement_flag = 0\n",
        "\n",
        "            if median < mid:\n",
        "                idx = num // 2\n",
        "                while idx < len(robots_sorted) and robots_sorted[idx].position <= mid:\n",
        "                    new_position = robots_sorted[idx].position + 0.5\n",
        "                    new_position = avoid_collision(new_position, 0.5, robots_sorted, posL, posR)\n",
        "                    robots_sorted[idx].position = new_position\n",
        "                    movement_flag = 1\n",
        "                    idx += 1\n",
        "\n",
        "            else:\n",
        "                idx = num // 2\n",
        "                while robots_sorted[idx].position >= mid:\n",
        "                    new_position = robots_sorted[idx].position - 0.5\n",
        "                    new_position = avoid_collision(new_position, -0.5, robots_sorted, posL, posR)\n",
        "                    robots_sorted[idx].position = new_position\n",
        "                    movement_flag = 1\n",
        "                    idx -= 1\n",
        "\n",
        "            if movement_flag == 0:\n",
        "                break\n",
        "\n",
        "            if num % 2 == 0:\n",
        "                median = (robots_sorted[num // 2].position + robots_sorted[num // 2 - 1].position) / 2\n",
        "            else:\n",
        "                median = robots_sorted[num // 2].position\n",
        "\n",
        "            # Plot positions and update tqdm\n",
        "            plot_robots(robots_sorted, iteration, mid, median)\n",
        "            progress_bar.update(1)  # Increment progress\n",
        "\n",
        "    # Record the end time\n",
        "    end_time = time.time()\n",
        "\n",
        "    # Calculate the total time taken\n",
        "    total_time = end_time - start_time\n",
        "    print(f\"\\nTotal time taken: {total_time:.2f} seconds\")\n",
        "\n",
        "    # Final robot positions\n",
        "    print(\"\\nFinal Robot Positions:\")\n",
        "    for robot in robots_sorted:\n",
        "        print(robot)\n",
        "\n",
        "if __name__ == \"__main__\":\n",
        "    main()"
      ],
      "metadata": {
        "id": "gvQ8f09NQCg1",
        "outputId": "4b5ebe43-639b-4f23-de60-586c2013f3d2",
        "colab": {
          "base_uri": "https://localhost:8080/",
          "height": 653
        }
      },
      "execution_count": 1,
      "outputs": [
        {
          "name": "stdout",
          "output_type": "stream",
          "text": [
            "Enter number of robots: 2\n",
            "Enter position of robot 1: 1\n",
            "Enter position of robot 2: 2\n"
          ]
        },
        {
          "output_type": "display_data",
          "data": {
            "text/plain": [
              "<Figure size 640x480 with 1 Axes>"
            ],
            "image/png": "[encoded data removed]"
          },
          "metadata": {}
        },
        {
          "output_type": "stream",
          "name": "stderr",
          "text": [
            "Iterations:   0%|          | 0/100 [00:00<?, ?iteration/s]"
          ]
        },
        {
          "output_type": "stream",
          "name": "stdout",
          "text": [
            "\n",
            "Total time taken: 0.03 seconds\n",
            "\n",
            "Final Robot Positions:\n",
            "Robot 1: 1.0\n",
            "Robot 2: 2.0\n"
          ]
        },
        {
          "output_type": "stream",
          "name": "stderr",
          "text": [
            "\n"
          ]
        }
      ]
    }
  ]
}